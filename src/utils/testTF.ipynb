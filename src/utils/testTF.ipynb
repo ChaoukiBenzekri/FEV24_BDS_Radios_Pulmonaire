{
 "cells": [
  {
   "cell_type": "code",
   "execution_count": 2,
   "metadata": {},
   "outputs": [
    {
     "name": "stdout",
     "output_type": "stream",
     "text": [
      "TensorFlow a accès au(x) GPU(s) suivant(s) :\n",
      "PhysicalDevice(name='/physical_device:GPU:0', device_type='GPU')\n"
     ]
    }
   ],
   "source": [
    "import tensorflow as tf\n",
    "\n",
    "# Vérifiez si TensorFlow a accès à un GPU\n",
    "if tf.config.list_physical_devices('GPU'):\n",
    "    print(\"TensorFlow a accès au(x) GPU(s) suivant(s) :\")\n",
    "    for gpu in tf.config.list_physical_devices('GPU'):\n",
    "        print(gpu)\n",
    "else:\n",
    "    print(\"TensorFlow n'a pas accès à un GPU.\")"
   ]
  }
 ],
 "metadata": {
  "kernelspec": {
   "display_name": "Python 3",
   "language": "python",
   "name": "python3"
  },
  "language_info": {
   "codemirror_mode": {
    "name": "ipython",
    "version": 3
   },
   "file_extension": ".py",
   "mimetype": "text/x-python",
   "name": "python",
   "nbconvert_exporter": "python",
   "pygments_lexer": "ipython3",
   "version": "3.10.12"
  }
 },
 "nbformat": 4,
 "nbformat_minor": 2
}
